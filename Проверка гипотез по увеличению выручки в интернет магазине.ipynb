{
 "cells": [
  {
   "cell_type": "markdown",
   "metadata": {},
   "source": [
    "# Принятие решений в бизнесе"
   ]
  },
  {
   "cell_type": "markdown",
   "metadata": {},
   "source": [
    "**Заказчик** - Интернет-магазин\n",
    "\n",
    "**Цель проекта**\n",
    "\n",
    "- Необходимость приоритизировать гипотезы из списка гипотез, предоставленных отделом Маркетинга;\n",
    "\n",
    "- Анализ результатов проведенного А/В-тестирования и аргументация решения по результатам теста.\n",
    "\n",
    "Варианты решений:\n",
    "1. Остановить тест, зафиксировать победу одной из групп.\n",
    "2. Остановить тест, зафиксировать отсутствие различий между группами.\n",
    "3. Продолжить тест.\n",
    "\n",
    "**Ход исследования:**\n",
    "\n",
    "-Обзор и предобработка данных;\n",
    "\n",
    "-Приоритезация гипотез;\n",
    "\n",
    "-Анализ А/В-теста;\n",
    "\n",
    "\n",
    "**В ходе исследования будут применены методы приоритезации гипотез ICE, RICE, а также построены графики по кумулятивным метрикам.**"
   ]
  },
  {
   "cell_type": "markdown",
   "metadata": {},
   "source": [
    "## Описание проекта, описание данных, загрузка и импорт библиотек"
   ]
  },
  {
   "cell_type": "markdown",
   "metadata": {},
   "source": [
    "Аналитик крупного интернет-магазина вместе с отделом маркетинга подготовил список гипотез для увеличения выручки."
   ]
  },
  {
   "cell_type": "markdown",
   "metadata": {},
   "source": [
    "**Импорт библиотек**"
   ]
  },
  {
   "cell_type": "code",
   "execution_count": 1,
   "metadata": {},
   "outputs": [],
   "source": [
    "import pandas as pd\n",
    "import numpy as np\n",
    "import matplotlib.pyplot as plt\n",
    "import seaborn as sns\n",
    "import math\n",
    "import datetime as dt\n",
    "import scipy.stats as stats\n",
    "import warnings\n",
    "\n",
    "from scipy import stats as st"
   ]
  },
  {
   "cell_type": "code",
   "execution_count": 2,
   "metadata": {},
   "outputs": [],
   "source": [
    "# снимаем ограничение на ширину столбцов\n",
    "pd.set_option('display.max_colwidth', None)"
   ]
  },
  {
   "cell_type": "markdown",
   "metadata": {},
   "source": [
    "**Загрузка данных**"
   ]
  },
  {
   "cell_type": "code",
   "execution_count": 3,
   "metadata": {},
   "outputs": [],
   "source": [
    "hypothesis = pd.read_csv('/datasets/hypothesis.csv')\n",
    "orders = pd.read_csv('/datasets/orders.csv')\n",
    "visitors = pd.read_csv('/datasets/visitors.csv')"
   ]
  },
  {
   "cell_type": "markdown",
   "metadata": {},
   "source": [
    "Обзор датафрейма **hypothesis**"
   ]
  },
  {
   "cell_type": "code",
   "execution_count": 4,
   "metadata": {},
   "outputs": [
    {
     "name": "stdout",
     "output_type": "stream",
     "text": [
      "<class 'pandas.core.frame.DataFrame'>\n",
      "RangeIndex: 9 entries, 0 to 8\n",
      "Data columns (total 5 columns):\n",
      " #   Column      Non-Null Count  Dtype \n",
      "---  ------      --------------  ----- \n",
      " 0   Hypothesis  9 non-null      object\n",
      " 1   Reach       9 non-null      int64 \n",
      " 2   Impact      9 non-null      int64 \n",
      " 3   Confidence  9 non-null      int64 \n",
      " 4   Efforts     9 non-null      int64 \n",
      "dtypes: int64(4), object(1)\n",
      "memory usage: 488.0+ bytes\n"
     ]
    }
   ],
   "source": [
    "hypothesis.info()"
   ]
  },
  {
   "cell_type": "code",
   "execution_count": 5,
   "metadata": {},
   "outputs": [
    {
     "data": {
      "text/html": [
       "<div>\n",
       "<style scoped>\n",
       "    .dataframe tbody tr th:only-of-type {\n",
       "        vertical-align: middle;\n",
       "    }\n",
       "\n",
       "    .dataframe tbody tr th {\n",
       "        vertical-align: top;\n",
       "    }\n",
       "\n",
       "    .dataframe thead th {\n",
       "        text-align: right;\n",
       "    }\n",
       "</style>\n",
       "<table border=\"1\" class=\"dataframe\">\n",
       "  <thead>\n",
       "    <tr style=\"text-align: right;\">\n",
       "      <th></th>\n",
       "      <th>Hypothesis</th>\n",
       "      <th>Reach</th>\n",
       "      <th>Impact</th>\n",
       "      <th>Confidence</th>\n",
       "      <th>Efforts</th>\n",
       "    </tr>\n",
       "  </thead>\n",
       "  <tbody>\n",
       "    <tr>\n",
       "      <th>0</th>\n",
       "      <td>Добавить два новых канала привлечения трафика, что позволит привлекать на 30% больше пользователей</td>\n",
       "      <td>3</td>\n",
       "      <td>10</td>\n",
       "      <td>8</td>\n",
       "      <td>6</td>\n",
       "    </tr>\n",
       "    <tr>\n",
       "      <th>1</th>\n",
       "      <td>Запустить собственную службу доставки, что сократит срок доставки заказов</td>\n",
       "      <td>2</td>\n",
       "      <td>5</td>\n",
       "      <td>4</td>\n",
       "      <td>10</td>\n",
       "    </tr>\n",
       "    <tr>\n",
       "      <th>2</th>\n",
       "      <td>Добавить блоки рекомендаций товаров на сайт интернет магазина, чтобы повысить конверсию и средний чек заказа</td>\n",
       "      <td>8</td>\n",
       "      <td>3</td>\n",
       "      <td>7</td>\n",
       "      <td>3</td>\n",
       "    </tr>\n",
       "    <tr>\n",
       "      <th>3</th>\n",
       "      <td>Изменить структура категорий, что увеличит конверсию, т.к. пользователи быстрее найдут нужный товар</td>\n",
       "      <td>8</td>\n",
       "      <td>3</td>\n",
       "      <td>3</td>\n",
       "      <td>8</td>\n",
       "    </tr>\n",
       "    <tr>\n",
       "      <th>4</th>\n",
       "      <td>Изменить цвет фона главной страницы, чтобы увеличить вовлеченность пользователей</td>\n",
       "      <td>3</td>\n",
       "      <td>1</td>\n",
       "      <td>1</td>\n",
       "      <td>1</td>\n",
       "    </tr>\n",
       "    <tr>\n",
       "      <th>5</th>\n",
       "      <td>Добавить страницу отзывов клиентов о магазине, что позволит увеличить количество заказов</td>\n",
       "      <td>3</td>\n",
       "      <td>2</td>\n",
       "      <td>2</td>\n",
       "      <td>3</td>\n",
       "    </tr>\n",
       "    <tr>\n",
       "      <th>6</th>\n",
       "      <td>Показать на главной странице баннеры с актуальными акциями и распродажами, чтобы увеличить конверсию</td>\n",
       "      <td>5</td>\n",
       "      <td>3</td>\n",
       "      <td>8</td>\n",
       "      <td>3</td>\n",
       "    </tr>\n",
       "    <tr>\n",
       "      <th>7</th>\n",
       "      <td>Добавить форму подписки на все основные страницы, чтобы собрать базу клиентов для email-рассылок</td>\n",
       "      <td>10</td>\n",
       "      <td>7</td>\n",
       "      <td>8</td>\n",
       "      <td>5</td>\n",
       "    </tr>\n",
       "    <tr>\n",
       "      <th>8</th>\n",
       "      <td>Запустить акцию, дающую скидку на товар в день рождения</td>\n",
       "      <td>1</td>\n",
       "      <td>9</td>\n",
       "      <td>9</td>\n",
       "      <td>5</td>\n",
       "    </tr>\n",
       "  </tbody>\n",
       "</table>\n",
       "</div>"
      ],
      "text/plain": [
       "                                                                                                     Hypothesis  \\\n",
       "0            Добавить два новых канала привлечения трафика, что позволит привлекать на 30% больше пользователей   \n",
       "1                                     Запустить собственную службу доставки, что сократит срок доставки заказов   \n",
       "2  Добавить блоки рекомендаций товаров на сайт интернет магазина, чтобы повысить конверсию и средний чек заказа   \n",
       "3           Изменить структура категорий, что увеличит конверсию, т.к. пользователи быстрее найдут нужный товар   \n",
       "4                              Изменить цвет фона главной страницы, чтобы увеличить вовлеченность пользователей   \n",
       "5                      Добавить страницу отзывов клиентов о магазине, что позволит увеличить количество заказов   \n",
       "6          Показать на главной странице баннеры с актуальными акциями и распродажами, чтобы увеличить конверсию   \n",
       "7              Добавить форму подписки на все основные страницы, чтобы собрать базу клиентов для email-рассылок   \n",
       "8                                                       Запустить акцию, дающую скидку на товар в день рождения   \n",
       "\n",
       "   Reach  Impact  Confidence  Efforts  \n",
       "0      3      10           8        6  \n",
       "1      2       5           4       10  \n",
       "2      8       3           7        3  \n",
       "3      8       3           3        8  \n",
       "4      3       1           1        1  \n",
       "5      3       2           2        3  \n",
       "6      5       3           8        3  \n",
       "7     10       7           8        5  \n",
       "8      1       9           9        5  "
      ]
     },
     "execution_count": 5,
     "metadata": {},
     "output_type": "execute_result"
    }
   ],
   "source": [
    "hypothesis.head(10)"
   ]
  },
  {
   "cell_type": "code",
   "execution_count": 6,
   "metadata": {},
   "outputs": [
    {
     "data": {
      "text/plain": [
       "Hypothesis    0\n",
       "Reach         0\n",
       "Impact        0\n",
       "Confidence    0\n",
       "Efforts       0\n",
       "dtype: int64"
      ]
     },
     "execution_count": 6,
     "metadata": {},
     "output_type": "execute_result"
    }
   ],
   "source": [
    "hypothesis.isna().sum() #проверяем наличие пропусков"
   ]
  },
  {
   "cell_type": "code",
   "execution_count": 7,
   "metadata": {},
   "outputs": [
    {
     "data": {
      "text/plain": [
       "0"
      ]
     },
     "execution_count": 7,
     "metadata": {},
     "output_type": "execute_result"
    }
   ],
   "source": [
    "hypothesis.duplicated().sum() #проверяем наличие дубликатов"
   ]
  },
  {
   "cell_type": "markdown",
   "metadata": {},
   "source": [
    "Обзор датафрейма **orders**"
   ]
  },
  {
   "cell_type": "code",
   "execution_count": 8,
   "metadata": {},
   "outputs": [
    {
     "name": "stdout",
     "output_type": "stream",
     "text": [
      "<class 'pandas.core.frame.DataFrame'>\n",
      "RangeIndex: 1197 entries, 0 to 1196\n",
      "Data columns (total 5 columns):\n",
      " #   Column         Non-Null Count  Dtype \n",
      "---  ------         --------------  ----- \n",
      " 0   transactionId  1197 non-null   int64 \n",
      " 1   visitorId      1197 non-null   int64 \n",
      " 2   date           1197 non-null   object\n",
      " 3   revenue        1197 non-null   int64 \n",
      " 4   group          1197 non-null   object\n",
      "dtypes: int64(3), object(2)\n",
      "memory usage: 46.9+ KB\n"
     ]
    }
   ],
   "source": [
    "orders.info()"
   ]
  },
  {
   "cell_type": "code",
   "execution_count": 9,
   "metadata": {},
   "outputs": [
    {
     "data": {
      "text/html": [
       "<div>\n",
       "<style scoped>\n",
       "    .dataframe tbody tr th:only-of-type {\n",
       "        vertical-align: middle;\n",
       "    }\n",
       "\n",
       "    .dataframe tbody tr th {\n",
       "        vertical-align: top;\n",
       "    }\n",
       "\n",
       "    .dataframe thead th {\n",
       "        text-align: right;\n",
       "    }\n",
       "</style>\n",
       "<table border=\"1\" class=\"dataframe\">\n",
       "  <thead>\n",
       "    <tr style=\"text-align: right;\">\n",
       "      <th></th>\n",
       "      <th>transactionId</th>\n",
       "      <th>visitorId</th>\n",
       "      <th>date</th>\n",
       "      <th>revenue</th>\n",
       "      <th>group</th>\n",
       "    </tr>\n",
       "  </thead>\n",
       "  <tbody>\n",
       "    <tr>\n",
       "      <th>0</th>\n",
       "      <td>3667963787</td>\n",
       "      <td>3312258926</td>\n",
       "      <td>2019-08-15</td>\n",
       "      <td>1650</td>\n",
       "      <td>B</td>\n",
       "    </tr>\n",
       "    <tr>\n",
       "      <th>1</th>\n",
       "      <td>2804400009</td>\n",
       "      <td>3642806036</td>\n",
       "      <td>2019-08-15</td>\n",
       "      <td>730</td>\n",
       "      <td>B</td>\n",
       "    </tr>\n",
       "    <tr>\n",
       "      <th>2</th>\n",
       "      <td>2961555356</td>\n",
       "      <td>4069496402</td>\n",
       "      <td>2019-08-15</td>\n",
       "      <td>400</td>\n",
       "      <td>A</td>\n",
       "    </tr>\n",
       "    <tr>\n",
       "      <th>3</th>\n",
       "      <td>3797467345</td>\n",
       "      <td>1196621759</td>\n",
       "      <td>2019-08-15</td>\n",
       "      <td>9759</td>\n",
       "      <td>B</td>\n",
       "    </tr>\n",
       "    <tr>\n",
       "      <th>4</th>\n",
       "      <td>2282983706</td>\n",
       "      <td>2322279887</td>\n",
       "      <td>2019-08-15</td>\n",
       "      <td>2308</td>\n",
       "      <td>B</td>\n",
       "    </tr>\n",
       "  </tbody>\n",
       "</table>\n",
       "</div>"
      ],
      "text/plain": [
       "   transactionId   visitorId        date  revenue group\n",
       "0     3667963787  3312258926  2019-08-15     1650     B\n",
       "1     2804400009  3642806036  2019-08-15      730     B\n",
       "2     2961555356  4069496402  2019-08-15      400     A\n",
       "3     3797467345  1196621759  2019-08-15     9759     B\n",
       "4     2282983706  2322279887  2019-08-15     2308     B"
      ]
     },
     "execution_count": 9,
     "metadata": {},
     "output_type": "execute_result"
    }
   ],
   "source": [
    "orders.head()"
   ]
  },
  {
   "cell_type": "code",
   "execution_count": 10,
   "metadata": {},
   "outputs": [
    {
     "data": {
      "text/plain": [
       "transactionId    0\n",
       "visitorId        0\n",
       "date             0\n",
       "revenue          0\n",
       "group            0\n",
       "dtype: int64"
      ]
     },
     "execution_count": 10,
     "metadata": {},
     "output_type": "execute_result"
    }
   ],
   "source": [
    "orders.isna().sum() #проверяем наличие пропусков"
   ]
  },
  {
   "cell_type": "code",
   "execution_count": 11,
   "metadata": {},
   "outputs": [
    {
     "data": {
      "text/plain": [
       "0"
      ]
     },
     "execution_count": 11,
     "metadata": {},
     "output_type": "execute_result"
    }
   ],
   "source": [
    "orders.duplicated().sum() #проверяем наличие дубликатов"
   ]
  },
  {
   "cell_type": "markdown",
   "metadata": {},
   "source": [
    "Обзор датафрейма **visitors**"
   ]
  },
  {
   "cell_type": "code",
   "execution_count": 12,
   "metadata": {},
   "outputs": [
    {
     "name": "stdout",
     "output_type": "stream",
     "text": [
      "<class 'pandas.core.frame.DataFrame'>\n",
      "RangeIndex: 62 entries, 0 to 61\n",
      "Data columns (total 3 columns):\n",
      " #   Column    Non-Null Count  Dtype \n",
      "---  ------    --------------  ----- \n",
      " 0   date      62 non-null     object\n",
      " 1   group     62 non-null     object\n",
      " 2   visitors  62 non-null     int64 \n",
      "dtypes: int64(1), object(2)\n",
      "memory usage: 1.6+ KB\n"
     ]
    }
   ],
   "source": [
    "visitors.info()"
   ]
  },
  {
   "cell_type": "code",
   "execution_count": 13,
   "metadata": {},
   "outputs": [
    {
     "data": {
      "text/html": [
       "<div>\n",
       "<style scoped>\n",
       "    .dataframe tbody tr th:only-of-type {\n",
       "        vertical-align: middle;\n",
       "    }\n",
       "\n",
       "    .dataframe tbody tr th {\n",
       "        vertical-align: top;\n",
       "    }\n",
       "\n",
       "    .dataframe thead th {\n",
       "        text-align: right;\n",
       "    }\n",
       "</style>\n",
       "<table border=\"1\" class=\"dataframe\">\n",
       "  <thead>\n",
       "    <tr style=\"text-align: right;\">\n",
       "      <th></th>\n",
       "      <th>date</th>\n",
       "      <th>group</th>\n",
       "      <th>visitors</th>\n",
       "    </tr>\n",
       "  </thead>\n",
       "  <tbody>\n",
       "    <tr>\n",
       "      <th>0</th>\n",
       "      <td>2019-08-01</td>\n",
       "      <td>A</td>\n",
       "      <td>719</td>\n",
       "    </tr>\n",
       "    <tr>\n",
       "      <th>1</th>\n",
       "      <td>2019-08-02</td>\n",
       "      <td>A</td>\n",
       "      <td>619</td>\n",
       "    </tr>\n",
       "    <tr>\n",
       "      <th>2</th>\n",
       "      <td>2019-08-03</td>\n",
       "      <td>A</td>\n",
       "      <td>507</td>\n",
       "    </tr>\n",
       "    <tr>\n",
       "      <th>3</th>\n",
       "      <td>2019-08-04</td>\n",
       "      <td>A</td>\n",
       "      <td>717</td>\n",
       "    </tr>\n",
       "    <tr>\n",
       "      <th>4</th>\n",
       "      <td>2019-08-05</td>\n",
       "      <td>A</td>\n",
       "      <td>756</td>\n",
       "    </tr>\n",
       "  </tbody>\n",
       "</table>\n",
       "</div>"
      ],
      "text/plain": [
       "         date group  visitors\n",
       "0  2019-08-01     A       719\n",
       "1  2019-08-02     A       619\n",
       "2  2019-08-03     A       507\n",
       "3  2019-08-04     A       717\n",
       "4  2019-08-05     A       756"
      ]
     },
     "execution_count": 13,
     "metadata": {},
     "output_type": "execute_result"
    }
   ],
   "source": [
    "visitors.head()"
   ]
  },
  {
   "cell_type": "code",
   "execution_count": 14,
   "metadata": {},
   "outputs": [
    {
     "data": {
      "text/plain": [
       "date        0\n",
       "group       0\n",
       "visitors    0\n",
       "dtype: int64"
      ]
     },
     "execution_count": 14,
     "metadata": {},
     "output_type": "execute_result"
    }
   ],
   "source": [
    "visitors.isna().sum() #проверяем наличие пропусков"
   ]
  },
  {
   "cell_type": "code",
   "execution_count": 15,
   "metadata": {},
   "outputs": [
    {
     "data": {
      "text/plain": [
       "0"
      ]
     },
     "execution_count": 15,
     "metadata": {},
     "output_type": "execute_result"
    }
   ],
   "source": [
    "visitors.duplicated().sum() #проверяем наличие дубликатов"
   ]
  },
  {
   "cell_type": "markdown",
   "metadata": {},
   "source": [
    "**Вывод**:\n",
    "\n",
    "- необходимо исправить тип данных в столбцах с датами\n",
    "- привести название столбцов к нижнему регистру\n",
    "- пропусков и дубликатов не выявлено"
   ]
  },
  {
   "cell_type": "markdown",
   "metadata": {},
   "source": [
    "**Предобработка данных**"
   ]
  },
  {
   "cell_type": "code",
   "execution_count": 16,
   "metadata": {},
   "outputs": [],
   "source": [
    "# изменение типа данных для столбцов с датами\n",
    "\n",
    "visitors['date'] = pd.to_datetime(visitors['date'])\n",
    "orders['date'] = pd.to_datetime(orders['date'])"
   ]
  },
  {
   "cell_type": "code",
   "execution_count": 17,
   "metadata": {},
   "outputs": [
    {
     "data": {
      "text/plain": [
       "Index(['hypothesis', 'reach', 'impact', 'confidence', 'efforts'], dtype='object')"
      ]
     },
     "metadata": {},
     "output_type": "display_data"
    },
    {
     "data": {
      "text/plain": [
       "Index(['transactionid', 'visitorid', 'date', 'revenue', 'group'], dtype='object')"
      ]
     },
     "execution_count": 17,
     "metadata": {},
     "output_type": "execute_result"
    }
   ],
   "source": [
    "# приведение наименования столбцов к нижнему регистру\n",
    "\n",
    "hypothesis.columns = hypothesis.columns.str.lower()\n",
    "orders.columns = orders.columns.str.lower()\n",
    "\n",
    "display(hypothesis.columns)\n",
    "orders.columns"
   ]
  },
  {
   "cell_type": "markdown",
   "metadata": {},
   "source": [
    "## Часть I. Приоритизация гипотез"
   ]
  },
  {
   "cell_type": "markdown",
   "metadata": {},
   "source": [
    "По датафрейму hypothesis видно, что отдел маркетинга подготовил 9 гипотез."
   ]
  },
  {
   "cell_type": "markdown",
   "metadata": {},
   "source": [
    "### Применение фреймворка ICE для приоритизации гипотез. Отсортирование их по убыванию приоритета."
   ]
  },
  {
   "cell_type": "markdown",
   "metadata": {},
   "source": [
    "Применим метод приоритезации гипотез - ICE (от. англ.: Impact, Confidence, Effort/ Влияние, Уверенность, Усилия)."
   ]
  },
  {
   "cell_type": "code",
   "execution_count": 18,
   "metadata": {},
   "outputs": [
    {
     "data": {
      "text/html": [
       "<div>\n",
       "<style scoped>\n",
       "    .dataframe tbody tr th:only-of-type {\n",
       "        vertical-align: middle;\n",
       "    }\n",
       "\n",
       "    .dataframe tbody tr th {\n",
       "        vertical-align: top;\n",
       "    }\n",
       "\n",
       "    .dataframe thead th {\n",
       "        text-align: right;\n",
       "    }\n",
       "</style>\n",
       "<table border=\"1\" class=\"dataframe\">\n",
       "  <thead>\n",
       "    <tr style=\"text-align: right;\">\n",
       "      <th></th>\n",
       "      <th>hypothesis</th>\n",
       "      <th>ice</th>\n",
       "    </tr>\n",
       "  </thead>\n",
       "  <tbody>\n",
       "    <tr>\n",
       "      <th>8</th>\n",
       "      <td>Запустить акцию, дающую скидку на товар в день рождения</td>\n",
       "      <td>16.20</td>\n",
       "    </tr>\n",
       "    <tr>\n",
       "      <th>0</th>\n",
       "      <td>Добавить два новых канала привлечения трафика, что позволит привлекать на 30% больше пользователей</td>\n",
       "      <td>13.33</td>\n",
       "    </tr>\n",
       "    <tr>\n",
       "      <th>7</th>\n",
       "      <td>Добавить форму подписки на все основные страницы, чтобы собрать базу клиентов для email-рассылок</td>\n",
       "      <td>11.20</td>\n",
       "    </tr>\n",
       "    <tr>\n",
       "      <th>6</th>\n",
       "      <td>Показать на главной странице баннеры с актуальными акциями и распродажами, чтобы увеличить конверсию</td>\n",
       "      <td>8.00</td>\n",
       "    </tr>\n",
       "    <tr>\n",
       "      <th>2</th>\n",
       "      <td>Добавить блоки рекомендаций товаров на сайт интернет магазина, чтобы повысить конверсию и средний чек заказа</td>\n",
       "      <td>7.00</td>\n",
       "    </tr>\n",
       "  </tbody>\n",
       "</table>\n",
       "</div>"
      ],
      "text/plain": [
       "                                                                                                     hypothesis  \\\n",
       "8                                                       Запустить акцию, дающую скидку на товар в день рождения   \n",
       "0            Добавить два новых канала привлечения трафика, что позволит привлекать на 30% больше пользователей   \n",
       "7              Добавить форму подписки на все основные страницы, чтобы собрать базу клиентов для email-рассылок   \n",
       "6          Показать на главной странице баннеры с актуальными акциями и распродажами, чтобы увеличить конверсию   \n",
       "2  Добавить блоки рекомендаций товаров на сайт интернет магазина, чтобы повысить конверсию и средний чек заказа   \n",
       "\n",
       "     ice  \n",
       "8  16.20  \n",
       "0  13.33  \n",
       "7  11.20  \n",
       "6   8.00  \n",
       "2   7.00  "
      ]
     },
     "execution_count": 18,
     "metadata": {},
     "output_type": "execute_result"
    }
   ],
   "source": [
    "hypothesis['ice'] = round(hypothesis['impact'] * hypothesis['confidence'] / hypothesis['efforts'],2)\n",
    "\n",
    "hypothesis[['hypothesis', 'ice']].sort_values(by='ice', ascending=False).head(5)"
   ]
  },
  {
   "cell_type": "markdown",
   "metadata": {},
   "source": [
    "По фреймворку ICE приоритетнее оказались гипотезы:\n",
    "\n",
    "- Запустить акцию, дающую скидку на товар в день рождения\n",
    "\n",
    "- Добавить два новых канала привлечения трафика, что позволит привлекать на 30% больше пользователей\n",
    "\n",
    "- Добавить форму подписки на все основные страницы, чтобы собрать базу клиентов для email-рассылок"
   ]
  },
  {
   "cell_type": "markdown",
   "metadata": {},
   "source": [
    "### Применение фреймворка RICE для приоритизации гипотез. Отсортирование их по убыванию приоритета."
   ]
  },
  {
   "cell_type": "markdown",
   "metadata": {},
   "source": [
    "Применим метод приоритезации гипотез - RICE (от. англ.:Reach (охват), Impact, Confidence, Effort/ Влияние, Уверенность, Усилия)."
   ]
  },
  {
   "cell_type": "code",
   "execution_count": 19,
   "metadata": {},
   "outputs": [
    {
     "data": {
      "text/html": [
       "<div>\n",
       "<style scoped>\n",
       "    .dataframe tbody tr th:only-of-type {\n",
       "        vertical-align: middle;\n",
       "    }\n",
       "\n",
       "    .dataframe tbody tr th {\n",
       "        vertical-align: top;\n",
       "    }\n",
       "\n",
       "    .dataframe thead th {\n",
       "        text-align: right;\n",
       "    }\n",
       "</style>\n",
       "<table border=\"1\" class=\"dataframe\">\n",
       "  <thead>\n",
       "    <tr style=\"text-align: right;\">\n",
       "      <th></th>\n",
       "      <th>hypothesis</th>\n",
       "      <th>rice</th>\n",
       "    </tr>\n",
       "  </thead>\n",
       "  <tbody>\n",
       "    <tr>\n",
       "      <th>7</th>\n",
       "      <td>Добавить форму подписки на все основные страницы, чтобы собрать базу клиентов для email-рассылок</td>\n",
       "      <td>112.0</td>\n",
       "    </tr>\n",
       "    <tr>\n",
       "      <th>2</th>\n",
       "      <td>Добавить блоки рекомендаций товаров на сайт интернет магазина, чтобы повысить конверсию и средний чек заказа</td>\n",
       "      <td>56.0</td>\n",
       "    </tr>\n",
       "    <tr>\n",
       "      <th>0</th>\n",
       "      <td>Добавить два новых канала привлечения трафика, что позволит привлекать на 30% больше пользователей</td>\n",
       "      <td>40.0</td>\n",
       "    </tr>\n",
       "    <tr>\n",
       "      <th>6</th>\n",
       "      <td>Показать на главной странице баннеры с актуальными акциями и распродажами, чтобы увеличить конверсию</td>\n",
       "      <td>40.0</td>\n",
       "    </tr>\n",
       "    <tr>\n",
       "      <th>8</th>\n",
       "      <td>Запустить акцию, дающую скидку на товар в день рождения</td>\n",
       "      <td>16.2</td>\n",
       "    </tr>\n",
       "  </tbody>\n",
       "</table>\n",
       "</div>"
      ],
      "text/plain": [
       "                                                                                                     hypothesis  \\\n",
       "7              Добавить форму подписки на все основные страницы, чтобы собрать базу клиентов для email-рассылок   \n",
       "2  Добавить блоки рекомендаций товаров на сайт интернет магазина, чтобы повысить конверсию и средний чек заказа   \n",
       "0            Добавить два новых канала привлечения трафика, что позволит привлекать на 30% больше пользователей   \n",
       "6          Показать на главной странице баннеры с актуальными акциями и распродажами, чтобы увеличить конверсию   \n",
       "8                                                       Запустить акцию, дающую скидку на товар в день рождения   \n",
       "\n",
       "    rice  \n",
       "7  112.0  \n",
       "2   56.0  \n",
       "0   40.0  \n",
       "6   40.0  \n",
       "8   16.2  "
      ]
     },
     "execution_count": 19,
     "metadata": {},
     "output_type": "execute_result"
    }
   ],
   "source": [
    "hypothesis['rice'] = round(hypothesis['reach'] * hypothesis['impact'] * hypothesis['confidence'] / hypothesis['efforts'],2)\n",
    "\n",
    "hypothesis[['hypothesis', 'rice']].sort_values(by='rice', ascending=False).head(5)"
   ]
  },
  {
   "cell_type": "markdown",
   "metadata": {},
   "source": [
    "По фреймворку RICE приоритетнее оказались гипотезы:\n",
    "\n",
    "- Добавить форму подписки на все основные страницы, чтобы собрать базу клиентов для email-рассылок\n",
    "\n",
    "- Добавить блоки рекомендаций товаров на сайт интернет магазина, чтобы повысить конверсию и средний чек заказа\n",
    "\n",
    "- Добавить два новых канала привлечения трафика, что позволит привлекать на 30% больше пользователей"
   ]
  },
  {
   "cell_type": "markdown",
   "metadata": {},
   "source": [
    "### Вывод"
   ]
  },
  {
   "cell_type": "markdown",
   "metadata": {},
   "source": [
    "По мотоду ICE и RICE приоритет выпал на одни и те же гипотезы,однако сама очередность приоритетов разная.\n",
    "\n",
    "С учетом охвата на первом месте по приоритету стоит гипотеза о добавлении формы подписки на все основные страницы ресурса.\n",
    "Без учета охвата - акция со скидкой в день рождение.\n",
    "\n",
    "Без изменений осталась рейтинговая позиция гипотез о добавлении баннеров с актуальными акциями на главную страницу и идея с изменением цвета фона главной страницы)."
   ]
  },
  {
   "cell_type": "code",
   "execution_count": 20,
   "metadata": {},
   "outputs": [
    {
     "data": {
      "text/html": [
       "<div>\n",
       "<style scoped>\n",
       "    .dataframe tbody tr th:only-of-type {\n",
       "        vertical-align: middle;\n",
       "    }\n",
       "\n",
       "    .dataframe tbody tr th {\n",
       "        vertical-align: top;\n",
       "    }\n",
       "\n",
       "    .dataframe thead th {\n",
       "        text-align: right;\n",
       "    }\n",
       "</style>\n",
       "<table border=\"1\" class=\"dataframe\">\n",
       "  <thead>\n",
       "    <tr style=\"text-align: right;\">\n",
       "      <th></th>\n",
       "      <th>hypothesis</th>\n",
       "      <th>ice</th>\n",
       "      <th>rice</th>\n",
       "    </tr>\n",
       "  </thead>\n",
       "  <tbody>\n",
       "    <tr>\n",
       "      <th>7</th>\n",
       "      <td>Добавить форму подписки на все основные страницы, чтобы собрать базу клиентов для email-рассылок</td>\n",
       "      <td>11.20</td>\n",
       "      <td>112.0</td>\n",
       "    </tr>\n",
       "    <tr>\n",
       "      <th>2</th>\n",
       "      <td>Добавить блоки рекомендаций товаров на сайт интернет магазина, чтобы повысить конверсию и средний чек заказа</td>\n",
       "      <td>7.00</td>\n",
       "      <td>56.0</td>\n",
       "    </tr>\n",
       "    <tr>\n",
       "      <th>0</th>\n",
       "      <td>Добавить два новых канала привлечения трафика, что позволит привлекать на 30% больше пользователей</td>\n",
       "      <td>13.33</td>\n",
       "      <td>40.0</td>\n",
       "    </tr>\n",
       "    <tr>\n",
       "      <th>6</th>\n",
       "      <td>Показать на главной странице баннеры с актуальными акциями и распродажами, чтобы увеличить конверсию</td>\n",
       "      <td>8.00</td>\n",
       "      <td>40.0</td>\n",
       "    </tr>\n",
       "    <tr>\n",
       "      <th>8</th>\n",
       "      <td>Запустить акцию, дающую скидку на товар в день рождения</td>\n",
       "      <td>16.20</td>\n",
       "      <td>16.2</td>\n",
       "    </tr>\n",
       "  </tbody>\n",
       "</table>\n",
       "</div>"
      ],
      "text/plain": [
       "                                                                                                     hypothesis  \\\n",
       "7              Добавить форму подписки на все основные страницы, чтобы собрать базу клиентов для email-рассылок   \n",
       "2  Добавить блоки рекомендаций товаров на сайт интернет магазина, чтобы повысить конверсию и средний чек заказа   \n",
       "0            Добавить два новых канала привлечения трафика, что позволит привлекать на 30% больше пользователей   \n",
       "6          Показать на главной странице баннеры с актуальными акциями и распродажами, чтобы увеличить конверсию   \n",
       "8                                                       Запустить акцию, дающую скидку на товар в день рождения   \n",
       "\n",
       "     ice   rice  \n",
       "7  11.20  112.0  \n",
       "2   7.00   56.0  \n",
       "0  13.33   40.0  \n",
       "6   8.00   40.0  \n",
       "8  16.20   16.2  "
      ]
     },
     "execution_count": 20,
     "metadata": {},
     "output_type": "execute_result"
    }
   ],
   "source": [
    "hypothesis[['hypothesis','ice', 'rice']].sort_values(by='rice', ascending=False).head(5)"
   ]
  },
  {
   "cell_type": "markdown",
   "metadata": {},
   "source": [
    "Разница приоритезиций заключается в том, что метод RICE учитывает кол-во пользователей, которых затронут изменения, поскольку в нем есть элемент REACH (охват), а метод ICE - нет."
   ]
  },
  {
   "cell_type": "markdown",
   "metadata": {},
   "source": [
    "## Часть II. Анализ A/B-теста"
   ]
  },
  {
   "cell_type": "markdown",
   "metadata": {},
   "source": [
    "Чтобы построить графики по кумулятивным метрикам, необходимо собрать агрегированный датафрейм, содержащий информацию о дате, группе (А или В), кумулятивных количестве заказов и пользователей их оформивших, среднем чеке, о кумулятивном количестве посетителей магазина."
   ]
  },
  {
   "cell_type": "code",
   "execution_count": 21,
   "metadata": {},
   "outputs": [
    {
     "name": "stdout",
     "output_type": "stream",
     "text": [
      "        date group  orders  buyers  revenue  visitors\n",
      "0 2019-08-01     A      24      20   148579       719\n",
      "1 2019-08-01     B      21      20   101217       713\n",
      "2 2019-08-02     A      44      38   242401      1338\n",
      "3 2019-08-02     B      45      43   266748      1294\n",
      "4 2019-08-03     A      68      62   354874      1845\n"
     ]
    }
   ],
   "source": [
    "#создаем массив уникальных пар значений дат и групп теста\n",
    "\n",
    "datesGroups = orders[['date','group']].drop_duplicates()\n",
    "\n",
    "#получаем агрегированные кумулятивные по дням данные о заказах \n",
    "\n",
    "ordersAggregated = datesGroups.apply(lambda x: orders[np.logical_and(orders['date'] <= x['date'], orders['group'] == x['group'])]\\\n",
    ".agg({'date' : 'max', 'group' : 'max', 'transactionid' : 'nunique', 'visitorid' : 'nunique', 'revenue' : 'sum'}), axis=1).sort_values(by=['date','group'])\n",
    "\n",
    "#получаем агрегированные кумулятивные по дням данные о посетителях\n",
    "\n",
    "visitorsAggregated = datesGroups.apply(lambda x: visitors[np.logical_and(visitors['date'] <= x['date'], visitors['group'] == x['group'])].agg({'date' : 'max', 'group' : 'max', 'visitors' : 'sum'}), axis=1).sort_values(by=['date','group'])\n",
    "\n",
    "#объединяем кумулятивные данные в одной таблице и присваиваем ее столбцам понятные названия\n",
    "\n",
    "cumulativeData = ordersAggregated.merge(visitorsAggregated, left_on=['date', 'group'], right_on=['date', 'group'])\n",
    "cumulativeData.columns = ['date', 'group', 'orders', 'buyers', 'revenue', 'visitors']\n",
    "\n",
    "print(cumulativeData.head(5))"
   ]
  },
  {
   "cell_type": "markdown",
   "metadata": {},
   "source": [
    "### Построение графика кумулятивной выручки по группам. Выводы и предположения"
   ]
  },
  {
   "cell_type": "code",
   "execution_count": 22,
   "metadata": {},
   "outputs": [
    {
     "data": {
      "image/png": "[encoded data removed]",
      "text/plain": [
       "<Figure size 1080x720 with 1 Axes>"
      ]
     },
     "metadata": {
      "needs_background": "light"
     },
     "output_type": "display_data"
    }
   ],
   "source": [
    "# датафрейм с кумулятивным количеством заказов и кумулятивной выручкой по дням в группе А\n",
    "cumulativeRevenueA = cumulativeData[cumulativeData['group']=='A'][['date','revenue', 'orders']]\n",
    "\n",
    "# датафрейм с кумулятивным количеством заказов и кумулятивной выручкой по дням в группе B\n",
    "cumulativeRevenueB = cumulativeData[cumulativeData['group']=='B'][['date','revenue', 'orders']]\n",
    "\n",
    "plt.figure(figsize=(15, 10))\n",
    "# Строим график выручки группы А\n",
    "plt.plot(cumulativeRevenueA['date'], cumulativeRevenueA['revenue'], label='A')\n",
    "\n",
    "# Строим график выручки группы B\n",
    "plt.plot(cumulativeRevenueB['date'], cumulativeRevenueB['revenue'], label='B')\n",
    "plt.title('График кумулятивной выручки по группам')\n",
    "plt.xlabel('Дата')\n",
    "plt.ylabel('Выручка')\n",
    "plt.grid()\n",
    "plt.legend()\n",
    "plt.show()"
   ]
  },
  {
   "cell_type": "markdown",
   "metadata": {},
   "source": [
    "Мы видим, что кумулятивная выручка группы А растет линейно, и она меньше, чем у группы В.\n",
    "При этом в группе В есть резкий скачок в районе 18-го августа, что может сигнализировать о всплесках числа заказов, либо о появлении очень дорогих заказов в выборке."
   ]
  },
  {
   "cell_type": "markdown",
   "metadata": {},
   "source": [
    "### Построение графика кумулятивного среднего чека по группам. Выводы и предположения"
   ]
  },
  {
   "cell_type": "code",
   "execution_count": 23,
   "metadata": {},
   "outputs": [
    {
     "data": {
      "image/png": "[encoded data removed]",
      "text/plain": [
       "<Figure size 1080x720 with 1 Axes>"
      ]
     },
     "metadata": {
      "needs_background": "light"
     },
     "output_type": "display_data"
    }
   ],
   "source": [
    "plt.figure(figsize=(15, 10))\n",
    "plt.plot(cumulativeRevenueA['date'], cumulativeRevenueA['revenue']/cumulativeRevenueA['orders'], label='A')\n",
    "plt.plot(cumulativeRevenueB['date'], cumulativeRevenueB['revenue']/cumulativeRevenueB['orders'], label='B')\n",
    "plt.title('График кумулятивного среднего чека по группам')\n",
    "plt.xlabel('Дата')\n",
    "plt.ylabel('Кумулятивный cредний чек')\n",
    "plt.grid()\n",
    "plt.legend()\n",
    "plt.show()"
   ]
  },
  {
   "cell_type": "markdown",
   "metadata": {},
   "source": [
    "Кумулятивный средний чек группы B имеет аномальный рост в середине теста(присерно 18 августа). Скорее всего, в эту дату произошли очень крупные покупки."
   ]
  },
  {
   "cell_type": "markdown",
   "metadata": {},
   "source": [
    "### Построение графика относительного изменения кумулятивного среднего чека группы B к группе A. Выводы и предположения"
   ]
  },
  {
   "cell_type": "code",
   "execution_count": 24,
   "metadata": {},
   "outputs": [
    {
     "data": {
      "image/png": "[encoded data removed]",
      "text/plain": [
       "<Figure size 1080x720 with 1 Axes>"
      ]
     },
     "metadata": {
      "needs_background": "light"
     },
     "output_type": "display_data"
    }
   ],
   "source": [
    "# собираем данные в одном датафрейме\n",
    "mergedCumulativeRevenue = cumulativeRevenueA.merge(cumulativeRevenueB, left_on='date', right_on='date', how='left', suffixes=['A', 'B'])\n",
    "\n",
    "# cтроим отношение средних чеков\n",
    "plt.figure(figsize=(15, 10))\n",
    "plt.plot(mergedCumulativeRevenue['date'], (mergedCumulativeRevenue['revenueB']/mergedCumulativeRevenue['ordersB'])/(mergedCumulativeRevenue['revenueA']/mergedCumulativeRevenue['ordersA'])-1)\n",
    "# добавляем ось X\n",
    "plt.axhline(y=0, color='black', linestyle='--')\n",
    "plt.title('График относительного изменения кумулятивного среднего чека группы B к группе A')\n",
    "plt.xlabel('Дата')\n",
    "plt.ylabel('Доля')\n",
    "plt.grid()\n",
    "plt.show()"
   ]
  },
  {
   "cell_type": "markdown",
   "metadata": {},
   "source": [
    "По графику можно предположить наличие крупных заказов."
   ]
  },
  {
   "cell_type": "markdown",
   "metadata": {},
   "source": [
    "### Построение графика кумулятивного среднего количества заказов на посетителя по группам. Выводы и предположения"
   ]
  },
  {
   "cell_type": "code",
   "execution_count": 25,
   "metadata": {},
   "outputs": [
    {
     "data": {
      "image/png": "[encoded data removed]",
      "text/plain": [
       "<Figure size 1080x504 with 1 Axes>"
      ]
     },
     "metadata": {
      "needs_background": "light"
     },
     "output_type": "display_data"
    }
   ],
   "source": [
    "# считаем кумулятивную среднего количества заказов на посетителя по группам\n",
    "cumulativeData['conversion'] = cumulativeData['orders']/cumulativeData['visitors']\n",
    "\n",
    "# отделяем данные по группе A\n",
    "cumulativeDataA = cumulativeData[cumulativeData['group']=='A']\n",
    "\n",
    "# отделяем данные по группе B\n",
    "cumulativeDataB = cumulativeData[cumulativeData['group']=='B']\n",
    "\n",
    "# строим графики\n",
    "plt.figure(figsize=(15, 7))\n",
    "plt.plot(cumulativeDataA['date'], cumulativeDataA['conversion'], label='A')\n",
    "plt.plot(cumulativeDataB['date'], cumulativeDataB['conversion'], label='B')\n",
    "plt.axis([dt.datetime(2019, 8, 1), dt.datetime(2019, 9, 1), 0.028, 0.038])\n",
    "plt.title('График кумулятивного среднего количества заказов на посетителя по группам')\n",
    "plt.xlabel('Дата')\n",
    "plt.ylabel('среднее количество заказов на посетителя')\n",
    "plt.legend()\n",
    "plt.grid()\n",
    "plt.show()"
   ]
  },
  {
   "cell_type": "markdown",
   "metadata": {},
   "source": [
    "Кумулятивное среднее количество заказов в группе B значительно выше, чем в группе А. При этом до 5 августа показатель был приблизительно одинаковый."
   ]
  },
  {
   "cell_type": "markdown",
   "metadata": {},
   "source": [
    "### Построение графика относительного изменения кумулятивного среднего количества заказов на посетителя группы B к группе A. Выводы и предположения"
   ]
  },
  {
   "cell_type": "code",
   "execution_count": 26,
   "metadata": {},
   "outputs": [
    {
     "data": {
      "image/png": "[encoded data removed]",
      "text/plain": [
       "<Figure size 1080x720 with 1 Axes>"
      ]
     },
     "metadata": {
      "needs_background": "light"
     },
     "output_type": "display_data"
    }
   ],
   "source": [
    "mergedCumulativeConversions = cumulativeDataA[['date','conversion']].merge(cumulativeDataB[['date','conversion']], left_on='date', right_on='date', how='left', suffixes=['A', 'B'])\n",
    "#строим график\n",
    "plt.figure(figsize=(15, 10))\n",
    "plt.plot(mergedCumulativeConversions['date'], mergedCumulativeConversions['conversionB']/mergedCumulativeConversions['conversionA']-1, label=\"Относительный прирост конверсии группы B относительно группы A\")\n",
    "# добавляем оси\n",
    "plt.axhline(y=0, color='black', linestyle='--')\n",
    "plt.axhline(y=0.15, color='grey', linestyle='--')\n",
    "plt.title('График относительного изменения кумулятивного среднего количества заказов на посетителя группы B к группе A')\n",
    "plt.xlabel('Дата')\n",
    "plt.ylabel('Среднее количество заказов на посетителя')\n",
    "plt.legend()\n",
    "plt.grid()\n",
    "plt.show()"
   ]
  },
  {
   "cell_type": "markdown",
   "metadata": {},
   "source": [
    "По графику видно, что группа B лидирует после 5-го дня теста."
   ]
  },
  {
   "cell_type": "markdown",
   "metadata": {},
   "source": [
    "### Построение точечного графика количества заказов по пользователям. Выводы и предположения"
   ]
  },
  {
   "cell_type": "code",
   "execution_count": 27,
   "metadata": {},
   "outputs": [
    {
     "name": "stdout",
     "output_type": "stream",
     "text": [
      "       visitorid  transactionid\n",
      "1023  4256040402             11\n",
      "591   2458001652             11\n",
      "569   2378935119              9\n",
      "487   2038680547              8\n",
      "44     199603092              5\n",
      "744   3062433592              5\n",
      "55     237748145              5\n",
      "917   3803269165              5\n",
      "299   1230306981              5\n",
      "897   3717692402              5\n"
     ]
    }
   ],
   "source": [
    "#Подсчитаем количество заказов по пользователям \n",
    "ordersByUsers = (\n",
    "    orders.groupby('visitorid', as_index=False)\n",
    "    .agg({'transactionid': 'nunique'})\n",
    ")\n",
    "\n",
    "ordersByUsers.columns = ['visitorid', 'transactionid']\n",
    "\n",
    "print(ordersByUsers.sort_values(by='transactionid', ascending=False).head(10))"
   ]
  },
  {
   "cell_type": "code",
   "execution_count": 28,
   "metadata": {},
   "outputs": [
    {
     "data": {
      "image/png": "[encoded data removed]",
      "text/plain": [
       "<Figure size 720x504 with 1 Axes>"
      ]
     },
     "metadata": {
      "needs_background": "light"
     },
     "output_type": "display_data"
    }
   ],
   "source": [
    "#Строим график\n",
    "x_values = pd.Series(range(0, len(ordersByUsers)))\n",
    "plt.figure(figsize=(10, 7))\n",
    "plt.scatter(x_values, ordersByUsers['transactionid'])\n",
    "plt.xlabel('Пользователи')\n",
    "plt.ylabel('Количество заказов')\n",
    "plt.title(\"Количество заказов по пользователям\")\n",
    "plt.grid()\n",
    "plt.show()"
   ]
  },
  {
   "cell_type": "markdown",
   "metadata": {},
   "source": [
    "По графику можно наблюдать аномальное количество заказов (более 4). Чаще всего пользователи совершали покупки до 2ух раз."
   ]
  },
  {
   "cell_type": "markdown",
   "metadata": {},
   "source": [
    "###  Подсчет 95-й и 99-й перцентилей количества заказов на пользователя. Выбор границы для определения аномальных пользователей"
   ]
  },
  {
   "cell_type": "code",
   "execution_count": 29,
   "metadata": {},
   "outputs": [
    {
     "name": "stdout",
     "output_type": "stream",
     "text": [
      "[2. 4.]\n"
     ]
    }
   ],
   "source": [
    "print(np.percentile(ordersByUsers['transactionid'], [95, 99]))"
   ]
  },
  {
   "cell_type": "markdown",
   "metadata": {},
   "source": [
    "Не более 5% пользователей совершали больше 2-х покупок в течение тестирования. И только 1% - четыре и более.\n",
    "Примем за верхнюю границу 4 заказа на одного пользователя."
   ]
  },
  {
   "cell_type": "markdown",
   "metadata": {},
   "source": [
    "### Построение точечного графика стоимостей заказов. Выводы и предположения"
   ]
  },
  {
   "cell_type": "code",
   "execution_count": 30,
   "metadata": {},
   "outputs": [
    {
     "data": {
      "image/png": "[encoded data removed]",
      "text/plain": [
       "<Figure size 720x504 with 1 Axes>"
      ]
     },
     "metadata": {
      "needs_background": "light"
     },
     "output_type": "display_data"
    }
   ],
   "source": [
    "x_values = pd.Series(range(0, len(orders['revenue'])))\n",
    "plt.figure(figsize=(10, 7))\n",
    "plt.scatter(x_values, orders['revenue']) \n",
    "plt.xlabel('Пользователи')\n",
    "plt.ylabel('Стоимость заказов')\n",
    "plt.title(\"Стоимости заказов\")\n",
    "plt.grid()\n",
    "plt.show()"
   ]
  },
  {
   "cell_type": "markdown",
   "metadata": {},
   "source": [
    "По графику можно отметить два заказа которые значительно выбиваются."
   ]
  },
  {
   "cell_type": "markdown",
   "metadata": {},
   "source": [
    "### Подсчет 95-й и 99-й перцентилей стоимости заказов. Выбор границы для определения аномальных заказов"
   ]
  },
  {
   "cell_type": "code",
   "execution_count": 31,
   "metadata": {},
   "outputs": [
    {
     "name": "stdout",
     "output_type": "stream",
     "text": [
      "[28000.  58233.2]\n"
     ]
    }
   ],
   "source": [
    "print(np.percentile(orders['revenue'] , [95, 99]))"
   ]
  },
  {
   "cell_type": "markdown",
   "metadata": {},
   "source": [
    "Не более 5% пользователей потратили более 28 тыс, 1% пользователей потратили более 58,2 тыс."
   ]
  },
  {
   "cell_type": "markdown",
   "metadata": {},
   "source": [
    "За порог аномалии примеме тех, кто постратил свыше 30 тыс."
   ]
  },
  {
   "cell_type": "markdown",
   "metadata": {},
   "source": [
    "### Подсчет статистической значимости различий в среднем количестве заказов на посетителя между группами по «сырым» данным. Выводы и предположения"
   ]
  },
  {
   "cell_type": "markdown",
   "metadata": {},
   "source": [
    "Создадим переменные ordersByUsersA и ordersByUsersB со столбцами ['userId', 'orders'], где для пользователей, совершивших хотя бы 1 заказ, будет указано число заказов. \n",
    "\n",
    "Объявим переменные sampleA и sampleB, в которых пользователям с заказами будет соответствовать число заказов пользователя. "
   ]
  },
  {
   "cell_type": "code",
   "execution_count": 32,
   "metadata": {},
   "outputs": [],
   "source": [
    "visitorsADaily = visitors[visitors['group'] == 'A'][['date', 'visitors']]\n",
    "visitorsADaily.columns = ['date', 'visitorsPerDateA']\n",
    "\n",
    "visitorsACummulative = visitorsADaily.apply(\n",
    "    lambda x: visitorsADaily[visitorsADaily['date'] <= x['date']].agg(\n",
    "        {'date': 'max', 'visitorsPerDateA': 'sum'}\n",
    "    ),\n",
    "    axis=1,\n",
    ")\n",
    "visitorsACummulative.columns = ['date', 'visitorsCummulativeA']\n",
    "\n",
    "visitorsBDaily = visitors[visitors['group'] == 'B'][['date', 'visitors']]\n",
    "visitorsBDaily.columns = ['date', 'visitorsPerDateB']\n",
    "\n",
    "visitorsBCummulative = visitorsBDaily.apply(\n",
    "    lambda x: visitorsBDaily[visitorsBDaily['date'] <= x['date']].agg(\n",
    "        {'date': 'max', 'visitorsPerDateB': 'sum'}\n",
    "    ),\n",
    "    axis=1,\n",
    ")\n",
    "visitorsBCummulative.columns = ['date', 'visitorsCummulativeB']\n",
    "\n",
    "ordersADaily = (\n",
    "    orders[orders['group'] == 'A'][['date', 'transactionid', 'visitorid', 'revenue']]\n",
    "    .groupby('date', as_index=False)\n",
    "    .agg({'transactionid': pd.Series.nunique, 'revenue': 'sum'})\n",
    ")\n",
    "ordersADaily.columns = ['date', 'ordersPerDateA', 'revenuePerDateA']\n",
    "\n",
    "ordersACummulative = ordersADaily.apply(\n",
    "    lambda x: ordersADaily[ordersADaily['date'] <= x['date']].agg(\n",
    "        {'date': 'max', 'ordersPerDateA': 'sum', 'revenuePerDateA': 'sum'}\n",
    "    ),\n",
    "    axis=1,\n",
    ").sort_values(by=['date'])\n",
    "ordersACummulative.columns = [\n",
    "    'date',\n",
    "    'ordersCummulativeA',\n",
    "    'revenueCummulativeA',\n",
    "]\n",
    "\n",
    "ordersBDaily = (\n",
    "    orders[orders['group'] == 'B'][['date', 'transactionid', 'visitorid', 'revenue']]\n",
    "    .groupby('date', as_index=False)\n",
    "    .agg({'transactionid': pd.Series.nunique, 'revenue': 'sum'})\n",
    ")\n",
    "ordersBDaily.columns = ['date', 'ordersPerDateB', 'revenuePerDateB']\n",
    "\n",
    "ordersBCummulative = ordersBDaily.apply(\n",
    "    lambda x: ordersBDaily[ordersBDaily['date'] <= x['date']].agg(\n",
    "        {'date': 'max', 'ordersPerDateB': 'sum', 'revenuePerDateB': 'sum'}\n",
    "    ),\n",
    "    axis=1,\n",
    ").sort_values(by=['date'])\n",
    "ordersBCummulative.columns = [\n",
    "    'date',\n",
    "    'ordersCummulativeB',\n",
    "    'revenueCummulativeB',\n",
    "]"
   ]
  },
  {
   "cell_type": "code",
   "execution_count": 33,
   "metadata": {},
   "outputs": [],
   "source": [
    "data = (\n",
    "    ordersADaily.merge(\n",
    "        ordersBDaily, left_on='date', right_on='date', how='left'\n",
    "    )\n",
    "    .merge(ordersACummulative, left_on='date', right_on='date', how='left')\n",
    "    .merge(ordersBCummulative, left_on='date', right_on='date', how='left')\n",
    "    .merge(visitorsADaily, left_on='date', right_on='date', how='left')\n",
    "    .merge(visitorsBDaily, left_on='date', right_on='date', how='left')\n",
    "    .merge(visitorsACummulative, left_on='date', right_on='date', how='left')\n",
    "    .merge(visitorsBCummulative, left_on='date', right_on='date', how='left')\n",
    ")"
   ]
  },
  {
   "cell_type": "markdown",
   "metadata": {},
   "source": [
    "**Нулевая гипотеза H0**:Среднее количество заказов на посетителя групп A и B равны, статистически значимых отличий нет;\n",
    "\n",
    "**Альтернаятивгая гипотеза H1**:Среднем количество заказов на посетителя групп A и B различны, статистически значимые отличия есть."
   ]
  },
  {
   "cell_type": "markdown",
   "metadata": {},
   "source": [
    "Применим критерий и отформатируем p-value, округлив его до трёх знаков после запятой."
   ]
  },
  {
   "cell_type": "code",
   "execution_count": 34,
   "metadata": {},
   "outputs": [
    {
     "name": "stdout",
     "output_type": "stream",
     "text": [
      "P-value: 0.017\n",
      "Относительные различия: 0.138\n"
     ]
    }
   ],
   "source": [
    "ordersByUsersA = (\n",
    "    orders[orders['group'] == 'A']\n",
    "    .groupby('visitorid', as_index=False)\n",
    "    .agg({'transactionid': pd.Series.nunique})\n",
    ")\n",
    "ordersByUsersA.columns = ['visitorid', 'transactionid']\n",
    "\n",
    "ordersByUsersB = (\n",
    "    orders[orders['group'] == 'B']\n",
    "    .groupby('visitorid', as_index=False)\n",
    "    .agg({'transactionid': pd.Series.nunique})\n",
    ")\n",
    "ordersByUsersB.columns = ['visitorid', 'transactionid'] \n",
    "sampleA = pd.concat([ordersByUsersA['transactionid'],pd.Series(0, index=np.arange(data['visitorsPerDateA'].sum() - len(ordersByUsersA['transactionid'])), name='orders')],axis=0)\n",
    "\n",
    "sampleB = pd.concat([ordersByUsersB['transactionid'],pd.Series(0, index=np.arange(data['visitorsPerDateB'].sum() - len(ordersByUsersB['transactionid'])), name='orders')],axis=0)\n",
    "print('P-value:',\"{0:.3f}\".format(stats.mannwhitneyu(sampleA, sampleB)[1]))\n",
    "\n",
    "print('Относительные различия:',\"{0:.3f}\".format(sampleB.mean() / sampleA.mean() - 1))"
   ]
  },
  {
   "cell_type": "markdown",
   "metadata": {},
   "source": [
    "**Поскольку P-value меньше 0.05, значит стоит отвергнуть нулевую гипотезу.**\n",
    "\n",
    "А также можно отметить, что в среднем количестве заказов между группами есть статистически значимые различия. "
   ]
  },
  {
   "cell_type": "markdown",
   "metadata": {},
   "source": [
    "### Подсчет статистической значимости различий в среднем чеке заказа между группами по «сырым» данным. Выводы и предположения"
   ]
  },
  {
   "cell_type": "markdown",
   "metadata": {},
   "source": [
    "**Нулевая гипотеза H0**:Средние чеки групп A и B равны, статистически значимых отличий нет;\n",
    "\n",
    "**Альтернаятивная гипотеза H1**:Средние чеки групп A и B различны, статистически значимые отличия есть."
   ]
  },
  {
   "cell_type": "code",
   "execution_count": 35,
   "metadata": {},
   "outputs": [
    {
     "name": "stdout",
     "output_type": "stream",
     "text": [
      "P-value: 0.729\n",
      "Относительные различия: 0.259\n"
     ]
    }
   ],
   "source": [
    "print('P-value:','{0:.3f}'.format(stats.mannwhitneyu(orders[orders['group']=='A']['revenue'], orders[orders['group']=='B']['revenue'])[1]))\n",
    "print('Относительные различия:','{0:.3f}'.format(orders[orders['group']=='B']['revenue'].mean()/orders[orders['group']=='A']['revenue'].mean()-1)) "
   ]
  },
  {
   "cell_type": "markdown",
   "metadata": {},
   "source": [
    "**Поскольку P-value больше 0.05, статистически значимых отличий в среднем чеке между группами нет.**\n",
    "\n",
    "А также, относительное различие среднего чека между сегментами около 26%."
   ]
  },
  {
   "cell_type": "markdown",
   "metadata": {},
   "source": [
    "### Подсчет статистической значимости различий в среднем количестве заказов на посетителя между группами по «очищенным» данным. Выводы и предположения"
   ]
  },
  {
   "cell_type": "markdown",
   "metadata": {},
   "source": [
    "Для очищения данных найдем аномальных пользователей тех, кто потратил более 30 тыс, либо совершил 4 и более заказов, и добавим их список аномальных."
   ]
  },
  {
   "cell_type": "code",
   "execution_count": 36,
   "metadata": {},
   "outputs": [],
   "source": [
    "usersWithManyOrders = pd.concat(\n",
    "    [\n",
    "        ordersByUsersA[ordersByUsersA['transactionid'] > 4]['visitorid'],\n",
    "        ordersByUsersB[ordersByUsersB['transactionid'] > 4]['visitorid'],\n",
    "    ],\n",
    "    axis=0,\n",
    ")\n",
    "usersWithExpensiveOrders = orders[orders['revenue'] > 30000]['visitorid']\n",
    "abnormalUsers = (\n",
    "    pd.concat([usersWithManyOrders, usersWithExpensiveOrders], axis=0)\n",
    "    .drop_duplicates()\n",
    "    .sort_values()\n",
    ")"
   ]
  },
  {
   "cell_type": "markdown",
   "metadata": {},
   "source": [
    "Создадим переменные sampleAFiltered и sampleBFiltered, в которых сохраним очищенные данные о заказах — не включая аномальных пользователей. \n",
    "\n",
    "Выведем p-value для сравнения среднего между очищенными группами. \n",
    "Округлим p-value до трех знаков после запятой. \n",
    "Выведем относительный прирост среднего очищенной группы B, округлив до трёх знаков после запятой."
   ]
  },
  {
   "cell_type": "code",
   "execution_count": 37,
   "metadata": {},
   "outputs": [
    {
     "name": "stdout",
     "output_type": "stream",
     "text": [
      "P-value: 0.019\n",
      "Относительные различия: 0.144\n"
     ]
    }
   ],
   "source": [
    "sampleAFiltered = pd.concat(\n",
    "    [\n",
    "        ordersByUsersA[\n",
    "            np.logical_not(ordersByUsersA['visitorid'].isin(abnormalUsers))\n",
    "        ]['transactionid'],\n",
    "        pd.Series(\n",
    "            0,\n",
    "            index=np.arange(\n",
    "                data['visitorsPerDateA'].sum() - len(ordersByUsersA['transactionid'])\n",
    "            ),\n",
    "            name='orders',\n",
    "        ),\n",
    "    ],\n",
    "    axis=0,\n",
    ")\n",
    "\n",
    "sampleBFiltered = pd.concat(\n",
    "    [\n",
    "        ordersByUsersB[\n",
    "            np.logical_not(ordersByUsersB['visitorid'].isin(abnormalUsers))\n",
    "        ]['transactionid'],\n",
    "        pd.Series(\n",
    "            0,\n",
    "            index=np.arange(\n",
    "                data['visitorsPerDateB'].sum() - len(ordersByUsersB['transactionid'])\n",
    "            ),\n",
    "            name='orders',\n",
    "        ),\n",
    "    ],\n",
    "    axis=0,\n",
    ") \n",
    "print('P-value:','{0:.3f}'.format(stats.mannwhitneyu(sampleAFiltered, sampleBFiltered)[1]))\n",
    "print('Относительные различия:','{0:.3f}'.format(sampleBFiltered.mean()/sampleAFiltered.mean()-1)) "
   ]
  },
  {
   "cell_type": "markdown",
   "metadata": {},
   "source": [
    "По \"очищенным данным\" выводы такие же как и по \"сырым\" данным."
   ]
  },
  {
   "cell_type": "markdown",
   "metadata": {},
   "source": [
    "### Подсчет статистической значимости различий в среднем чеке заказа между группами по «очищенным» данным. Выводы и предположения"
   ]
  },
  {
   "cell_type": "code",
   "execution_count": 38,
   "metadata": {},
   "outputs": [
    {
     "name": "stdout",
     "output_type": "stream",
     "text": [
      "P-value: 0.979\n",
      "Относительные различия: -0.017\n"
     ]
    }
   ],
   "source": [
    "print('P-value:',\n",
    "    '{0:.3f}'.format(\n",
    "        stats.mannwhitneyu(\n",
    "            orders[\n",
    "                np.logical_and(\n",
    "                    orders['group'] == 'A',\n",
    "                    np.logical_not(orders['visitorid'].isin(abnormalUsers)),\n",
    "                )\n",
    "            ]['revenue'],\n",
    "            orders[\n",
    "                np.logical_and(\n",
    "                    orders['group'] == 'B',\n",
    "                    np.logical_not(orders['visitorid'].isin(abnormalUsers)),\n",
    "                )\n",
    "            ]['revenue'],\n",
    "        )[1]\n",
    "    )\n",
    ")\n",
    "\n",
    "print('Относительные различия:',\n",
    "    \"{0:.3f}\".format(\n",
    "        orders[\n",
    "            np.logical_and(\n",
    "                orders['group'] == 'B',\n",
    "                np.logical_not(orders['visitorid'].isin(abnormalUsers)),\n",
    "            )\n",
    "        ]['revenue'].mean()\n",
    "        / orders[\n",
    "            np.logical_and(\n",
    "                orders['group'] == 'A',\n",
    "                np.logical_not(orders['visitorid'].isin(abnormalUsers)),\n",
    "            )\n",
    "        ]['revenue'].mean()\n",
    "        - 1\n",
    "    )\n",
    ") "
   ]
  },
  {
   "cell_type": "markdown",
   "metadata": {},
   "source": [
    "Значение p-value увеличилось до 0.979, но относительные различия уменьшились, что говорит о том, что данные без аномальных значений."
   ]
  },
  {
   "cell_type": "markdown",
   "metadata": {},
   "source": [
    "Есть статистически значимое различие в среднем количестве заказов на посетителя между группами по \"очищенным\" данным и по \"сырым данным\".\n",
    "\n",
    "Нет статистически значимого различия в среднем чеке заказа между группами ни по «сырым», ни по данным после фильтрации аномалий;\n",
    "\n",
    "График различия среднего количества заказов на посетителя между группами сообщает, что результаты группы B лучше группы A.\n",
    "\n",
    "График различия среднего чека говорит о том, что результаты группы B лучше группы А."
   ]
  },
  {
   "cell_type": "markdown",
   "metadata": {},
   "source": [
    "### Решение по результатам теста"
   ]
  },
  {
   "cell_type": "markdown",
   "metadata": {},
   "source": [
    "На основании подсчетов можно сделать вывод: **Остановить тест, зафиксирована победа группы B.**"
   ]
  },
  {
   "cell_type": "markdown",
   "metadata": {},
   "source": [
    "## Вывод"
   ]
  },
  {
   "cell_type": "markdown",
   "metadata": {},
   "source": [
    "**Аналитик крупного интернет-магазина вместе с отделом маркетинга подготовил список гипотез для увеличения выручки.**\n",
    "\n",
    "\n",
    "**Файл /datasets/hypothesis.csv.**\n",
    "\n",
    "Hypothesis — краткое описание гипотезы;\n",
    "\n",
    "Reach — охват пользователей по 10-балльной шкале;\n",
    "\n",
    "Impact — влияние на пользователей по 10-балльной шкале;\n",
    "\n",
    "Confidence — уверенность в гипотезе по 10-балльной шкале;\n",
    "\n",
    "Efforts — затраты ресурсов на проверку гипотезы по 10-балльной шкале. Чем больше значение Efforts, тем дороже проверка гипотезы.\n",
    "\n",
    "\n",
    "\n",
    "**Файл /datasets/orders.csv.**\n",
    "\n",
    "visitorId — идентификатор пользователя, совершившего заказ;\n",
    "\n",
    "date — дата, когда был совершён заказ;\n",
    "\n",
    "revenue — выручка заказа;\n",
    "\n",
    "group — группа A/B-теста, в которую попал заказ.\n",
    "\n",
    "\n",
    "**Файл /datasets/visitors.csv.**\n",
    "\n",
    "date — дата;\n",
    "\n",
    "group — группа A/B-теста;\n",
    "\n",
    "visitors — количество пользователей в указанную дату в указанной группе A/B-теста\n",
    "\n",
    "\n",
    "**При подготовительной работе с данными был исправлен тип данных в столбцах с датами, приведены названия столбцов к нижнему регистру. Пропусков и дубликатов не выявлено.**\n",
    "\n",
    "\n",
    "**При применении метода ICE приоритетенее оказались гипотезы:**\n",
    "\n",
    "- Запустить акцию, дающую скидку на товар в день рождения\n",
    "\n",
    "- Добавить два новых канала привлечения трафика, что позволит привлекать на 30% больше пользователей\n",
    "\n",
    "- Добавить форму подписки на все основные страницы, чтобы собрать базу клиентов для email-рассылок\n",
    "\n",
    "**При применении метода RICE приоритетенее оказались гипотезы:**\n",
    "\n",
    "- Добавить форму подписки на все основные страницы, чтобы собрать базу клиентов для email-рассылок\n",
    "\n",
    "- Добавить блоки рекомендаций товаров на сайт интернет магазина, чтобы повысить конверсию и средний чек заказа\n",
    "\n",
    "- Добавить два новых канала привлечения трафика, что позволит привлекать на 30% больше пользователей\n",
    "\n",
    "**Для анализа A/B теста были выполнены следующие дейтсвия:**\n",
    "\n",
    "- создан массив уникальных пар значений дат и групп теста\n",
    "- получены агрегированные кумулятивные по дням данные о заказах \n",
    "- получены агрегированные кумулятивные по дням данные о посетителях\n",
    "- объединены кумулятивные данные в одной таблице и присвоены ее столбцам новые названия\n",
    "\n",
    "**По кумулятивным метрикам были построены графики:**\n",
    "\n",
    "- график кумулятивной выручки по группам (показал, что кумулятивная выручка группы А растет линейно, и она меньше, чем у группы В. При этом в группе В есть резкий скачок в районе 18-го августа, что может сигнализировать о всплесках числа заказов, либо о появлении очень дорогих заказов в выборке.)\n",
    "\n",
    "- график кумулятивного среднего чека по группам (показал, что кумулятивный средний чек группы B имеет аномальный рост в середине теста(присерно 18 августа). Скорее всего, в эту дату произошли очень крупные покупки.)\n",
    "\n",
    "-  график относительного изменения кумулятивного среднего чека группы B к группе A (показал, наличие крупных заказов)\n",
    "\n",
    "- график кумулятивного среднего количества заказов на посетителя по группам (показал, что кумулятивное среднее количество заказов в группе B значительно выше, чем в группе А. При этом до 5 августа показатель был приблизительно одинаковый.)\n",
    "\n",
    "- график относительного изменения кумулятивного среднего количества заказов на посетителя группы B к группе A (показал, что  группа B лидирует после 5-го дня теста.)\n",
    "\n",
    "- точечный график количества заказов по пользователям (показал, что можно наблюдать аномальное количество заказов (более 4). Чаще всего пользователи совершали покупки до 2ух раз. Не более 5% пользователей совершали больше 2-х покупок в течение тестирования. И только 1% - четыре и более. Примем за верхнюю границу 4 заказа на одного пользователя.)\n",
    "\n",
    "-  точечный график стоимостей заказов (показал, что  два заказа которые значительно выбиваются. Не более 5% пользователей потратили более 28 тыс, 1% пользователей потратили более 58,2 тыс.)\n",
    "\n",
    "**Был произведен расчет статистической значимости:**\n",
    "\n",
    "- различий в среднем количестве заказов на посетителя между группами по «сырым» данным (по результатам которого была отвергнута гипотеза о том, что среднее количество заказов на посетителя групп A и B равны, статистически значимых отличий нет)\n",
    "\n",
    "- различий в среднем чеке заказа между группами по «сырым» данным (по результататм которого выявлено, что статистически значимых отличий в среднем чеке между группами нет, а также, относительное различие среднего чека между сегментами около 26%.)\n",
    "\n",
    "- различий в среднем количестве заказов на посетителя между группами по «очищенным» данным и различий в среднем чеке заказа между группами по «очищенным» данным, которые подвердили выводы сделанные по \"сырым данным\", за исключением уменьшения относительного различия.\n",
    "\n",
    "По итогу было принято решение: **Остановить тест, зафиксирована победа группы B.**\n"
   ]
  }
 ],
 "metadata": {
  "ExecuteTimeLog": [
   {
    "duration": 1608,
    "start_time": "2023-11-02T08:15:04.518Z"
   },
   {
    "duration": 210,
    "start_time": "2023-11-02T08:15:25.218Z"
   },
   {
    "duration": 26,
    "start_time": "2023-11-02T08:22:41.219Z"
   },
   {
    "duration": 14,
    "start_time": "2023-11-02T08:23:12.899Z"
   },
   {
    "duration": 6,
    "start_time": "2023-11-02T08:23:27.531Z"
   },
   {
    "duration": 17,
    "start_time": "2023-11-02T08:23:38.600Z"
   },
   {
    "duration": 13,
    "start_time": "2023-11-02T08:25:56.241Z"
   },
   {
    "duration": 12,
    "start_time": "2023-11-02T08:25:58.766Z"
   },
   {
    "duration": 8,
    "start_time": "2023-11-02T08:26:00.962Z"
   },
   {
    "duration": 8,
    "start_time": "2023-11-02T08:26:04.461Z"
   },
   {
    "duration": 11,
    "start_time": "2023-11-02T08:27:20.638Z"
   },
   {
    "duration": 9,
    "start_time": "2023-11-02T08:27:22.715Z"
   },
   {
    "duration": 7,
    "start_time": "2023-11-02T08:27:25.091Z"
   },
   {
    "duration": 6,
    "start_time": "2023-11-02T08:27:27.166Z"
   },
   {
    "duration": 7,
    "start_time": "2023-11-02T08:34:03.650Z"
   },
   {
    "duration": 8,
    "start_time": "2023-11-02T08:34:19.712Z"
   },
   {
    "duration": 9,
    "start_time": "2023-11-02T08:56:19.852Z"
   },
   {
    "duration": 13,
    "start_time": "2023-11-02T08:57:46.599Z"
   },
   {
    "duration": 12,
    "start_time": "2023-11-02T09:01:07.024Z"
   },
   {
    "duration": 14,
    "start_time": "2023-11-02T09:08:54.391Z"
   },
   {
    "duration": 212,
    "start_time": "2023-11-02T09:14:49.635Z"
   },
   {
    "duration": 154,
    "start_time": "2023-11-02T09:15:00.278Z"
   },
   {
    "duration": 8,
    "start_time": "2023-11-02T09:15:16.090Z"
   },
   {
    "duration": 14,
    "start_time": "2023-11-02T09:15:43.752Z"
   },
   {
    "duration": 296,
    "start_time": "2023-11-02T09:16:18.945Z"
   },
   {
    "duration": 206,
    "start_time": "2023-11-02T09:16:48.337Z"
   },
   {
    "duration": 388,
    "start_time": "2023-11-02T09:17:20.278Z"
   },
   {
    "duration": 154,
    "start_time": "2023-11-02T09:26:38.369Z"
   },
   {
    "duration": 142,
    "start_time": "2023-11-02T09:26:49.574Z"
   },
   {
    "duration": 6,
    "start_time": "2023-11-02T09:27:09.632Z"
   },
   {
    "duration": 159,
    "start_time": "2023-11-02T09:27:47.823Z"
   },
   {
    "duration": 163,
    "start_time": "2023-11-02T09:27:56.762Z"
   },
   {
    "duration": 240,
    "start_time": "2023-11-02T09:28:29.339Z"
   },
   {
    "duration": 5,
    "start_time": "2023-11-02T09:28:43.015Z"
   },
   {
    "duration": 1278,
    "start_time": "2023-11-02T09:37:09.763Z"
   },
   {
    "duration": 82,
    "start_time": "2023-11-02T09:37:13.753Z"
   },
   {
    "duration": 11,
    "start_time": "2023-11-02T09:37:16.445Z"
   },
   {
    "duration": 13,
    "start_time": "2023-11-02T09:37:19.383Z"
   },
   {
    "duration": 7,
    "start_time": "2023-11-02T09:37:22.450Z"
   },
   {
    "duration": 5,
    "start_time": "2023-11-02T09:37:24.455Z"
   },
   {
    "duration": 18,
    "start_time": "2023-11-02T09:37:27.204Z"
   },
   {
    "duration": 21,
    "start_time": "2023-11-02T09:37:29.804Z"
   },
   {
    "duration": 6,
    "start_time": "2023-11-02T09:37:32.571Z"
   },
   {
    "duration": 6,
    "start_time": "2023-11-02T09:37:35.022Z"
   },
   {
    "duration": 11,
    "start_time": "2023-11-02T09:37:37.715Z"
   },
   {
    "duration": 7,
    "start_time": "2023-11-02T09:37:40.225Z"
   },
   {
    "duration": 6,
    "start_time": "2023-11-02T09:37:42.671Z"
   },
   {
    "duration": 6,
    "start_time": "2023-11-02T09:37:44.891Z"
   },
   {
    "duration": 8,
    "start_time": "2023-11-02T09:37:53.258Z"
   },
   {
    "duration": 7,
    "start_time": "2023-11-02T09:37:56.114Z"
   },
   {
    "duration": 14,
    "start_time": "2023-11-02T09:38:52.780Z"
   },
   {
    "duration": 12,
    "start_time": "2023-11-02T09:39:31.742Z"
   },
   {
    "duration": 12,
    "start_time": "2023-11-02T09:39:55.415Z"
   },
   {
    "duration": 149,
    "start_time": "2023-11-02T09:41:34.225Z"
   },
   {
    "duration": 1266,
    "start_time": "2023-11-02T09:43:26.267Z"
   },
   {
    "duration": 80,
    "start_time": "2023-11-02T09:43:27.536Z"
   },
   {
    "duration": 12,
    "start_time": "2023-11-02T09:43:27.618Z"
   },
   {
    "duration": 45,
    "start_time": "2023-11-02T09:43:27.631Z"
   },
   {
    "duration": 41,
    "start_time": "2023-11-02T09:43:27.678Z"
   },
   {
    "duration": 30,
    "start_time": "2023-11-02T09:43:27.720Z"
   },
   {
    "duration": 37,
    "start_time": "2023-11-02T09:43:27.752Z"
   },
   {
    "duration": 33,
    "start_time": "2023-11-02T09:43:27.791Z"
   },
   {
    "duration": 31,
    "start_time": "2023-11-02T09:43:27.826Z"
   },
   {
    "duration": 56,
    "start_time": "2023-11-02T09:43:27.859Z"
   },
   {
    "duration": 71,
    "start_time": "2023-11-02T09:43:27.917Z"
   },
   {
    "duration": 48,
    "start_time": "2023-11-02T09:43:27.990Z"
   },
   {
    "duration": 48,
    "start_time": "2023-11-02T09:43:28.039Z"
   },
   {
    "duration": 74,
    "start_time": "2023-11-02T09:43:28.089Z"
   },
   {
    "duration": 94,
    "start_time": "2023-11-02T09:43:28.165Z"
   },
   {
    "duration": 1631,
    "start_time": "2023-11-02T09:43:28.262Z"
   },
   {
    "duration": 1,
    "start_time": "2023-11-02T09:43:29.894Z"
   },
   {
    "duration": 0,
    "start_time": "2023-11-02T09:43:29.896Z"
   },
   {
    "duration": 8,
    "start_time": "2023-11-02T09:46:05.814Z"
   },
   {
    "duration": 14,
    "start_time": "2023-11-02T09:46:21.394Z"
   },
   {
    "duration": 12,
    "start_time": "2023-11-02T09:46:30.158Z"
   },
   {
    "duration": 11,
    "start_time": "2023-11-02T09:46:37.954Z"
   },
   {
    "duration": 33,
    "start_time": "2023-11-02T09:47:01.715Z"
   },
   {
    "duration": 307,
    "start_time": "2023-11-02T09:48:26.683Z"
   },
   {
    "duration": 366,
    "start_time": "2023-11-02T09:49:51.674Z"
   },
   {
    "duration": 267,
    "start_time": "2023-11-02T09:50:23.055Z"
   },
   {
    "duration": 369,
    "start_time": "2023-11-02T09:50:52.795Z"
   },
   {
    "duration": 269,
    "start_time": "2023-11-02T09:51:18.679Z"
   },
   {
    "duration": 398,
    "start_time": "2023-11-02T09:51:47.315Z"
   },
   {
    "duration": 15,
    "start_time": "2023-11-02T09:52:11.733Z"
   },
   {
    "duration": 14,
    "start_time": "2023-11-02T09:52:25.624Z"
   },
   {
    "duration": 10,
    "start_time": "2023-11-02T09:52:44.487Z"
   },
   {
    "duration": 1451,
    "start_time": "2023-11-02T09:52:55.535Z"
   },
   {
    "duration": 164,
    "start_time": "2023-11-02T09:53:09.114Z"
   },
   {
    "duration": 2201,
    "start_time": "2023-11-02T09:53:34.155Z"
   },
   {
    "duration": 5,
    "start_time": "2023-11-02T09:53:42.675Z"
   },
   {
    "duration": 264,
    "start_time": "2023-11-02T09:54:09.850Z"
   },
   {
    "duration": 5,
    "start_time": "2023-11-02T09:54:41.045Z"
   },
   {
    "duration": 110,
    "start_time": "2023-11-02T09:55:47.115Z"
   },
   {
    "duration": 133,
    "start_time": "2023-11-02T09:56:34.555Z"
   },
   {
    "duration": 113,
    "start_time": "2023-11-02T09:56:49.874Z"
   },
   {
    "duration": 214,
    "start_time": "2023-11-02T09:57:16.640Z"
   },
   {
    "duration": 34,
    "start_time": "2023-11-02T09:57:28.688Z"
   },
   {
    "duration": 210,
    "start_time": "2023-11-02T09:58:41.170Z"
   },
   {
    "duration": 1744,
    "start_time": "2023-11-02T10:02:19.191Z"
   },
   {
    "duration": 9,
    "start_time": "2023-11-02T10:02:37.682Z"
   },
   {
    "duration": 36,
    "start_time": "2023-11-02T10:03:31.198Z"
   },
   {
    "duration": 108,
    "start_time": "2023-11-02T10:03:42.560Z"
   },
   {
    "duration": 2267,
    "start_time": "2023-11-02T10:04:07.063Z"
   },
   {
    "duration": 16,
    "start_time": "2023-11-02T10:04:25.826Z"
   },
   {
    "duration": 12,
    "start_time": "2023-11-02T10:32:49.041Z"
   },
   {
    "duration": 1203,
    "start_time": "2023-11-02T11:36:57.453Z"
   },
   {
    "duration": 77,
    "start_time": "2023-11-02T11:36:58.661Z"
   },
   {
    "duration": 12,
    "start_time": "2023-11-02T11:36:58.740Z"
   },
   {
    "duration": 29,
    "start_time": "2023-11-02T11:36:58.755Z"
   },
   {
    "duration": 14,
    "start_time": "2023-11-02T11:36:58.786Z"
   },
   {
    "duration": 40,
    "start_time": "2023-11-02T11:36:58.802Z"
   },
   {
    "duration": 25,
    "start_time": "2023-11-02T11:36:58.844Z"
   },
   {
    "duration": 32,
    "start_time": "2023-11-02T11:36:58.870Z"
   },
   {
    "duration": 38,
    "start_time": "2023-11-02T11:36:58.904Z"
   },
   {
    "duration": 40,
    "start_time": "2023-11-02T11:36:58.944Z"
   },
   {
    "duration": 58,
    "start_time": "2023-11-02T11:36:58.986Z"
   },
   {
    "duration": 59,
    "start_time": "2023-11-02T11:36:59.047Z"
   },
   {
    "duration": 53,
    "start_time": "2023-11-02T11:36:59.110Z"
   },
   {
    "duration": 25,
    "start_time": "2023-11-02T11:36:59.165Z"
   },
   {
    "duration": 29,
    "start_time": "2023-11-02T11:36:59.192Z"
   },
   {
    "duration": 49,
    "start_time": "2023-11-02T11:36:59.223Z"
   },
   {
    "duration": 74,
    "start_time": "2023-11-02T11:36:59.274Z"
   },
   {
    "duration": 49,
    "start_time": "2023-11-02T11:36:59.350Z"
   },
   {
    "duration": 70,
    "start_time": "2023-11-02T11:36:59.400Z"
   },
   {
    "duration": 325,
    "start_time": "2023-11-02T11:36:59.472Z"
   },
   {
    "duration": 369,
    "start_time": "2023-11-02T11:36:59.800Z"
   },
   {
    "duration": 273,
    "start_time": "2023-11-02T11:37:00.171Z"
   },
   {
    "duration": 333,
    "start_time": "2023-11-02T11:37:00.446Z"
   },
   {
    "duration": 306,
    "start_time": "2023-11-02T11:37:00.781Z"
   },
   {
    "duration": 398,
    "start_time": "2023-11-02T11:37:01.089Z"
   },
   {
    "duration": 14,
    "start_time": "2023-11-02T11:37:01.488Z"
   },
   {
    "duration": 427,
    "start_time": "2023-11-02T11:37:01.504Z"
   },
   {
    "duration": 4,
    "start_time": "2023-11-02T11:37:01.933Z"
   },
   {
    "duration": 563,
    "start_time": "2023-11-02T11:37:01.938Z"
   },
   {
    "duration": 4,
    "start_time": "2023-11-02T11:37:02.504Z"
   },
   {
    "duration": 315,
    "start_time": "2023-11-02T11:37:02.510Z"
   },
   {
    "duration": 23,
    "start_time": "2023-11-02T11:37:02.826Z"
   },
   {
    "duration": 224,
    "start_time": "2023-11-02T11:37:02.851Z"
   },
   {
    "duration": 214,
    "start_time": "2023-11-02T11:37:03.077Z"
   },
   {
    "duration": 137,
    "start_time": "2023-11-02T11:37:03.292Z"
   },
   {
    "duration": 134,
    "start_time": "2023-11-02T11:37:03.431Z"
   },
   {
    "duration": 17,
    "start_time": "2023-11-02T11:37:03.567Z"
   },
   {
    "duration": 1378,
    "start_time": "2023-11-03T08:14:06.278Z"
   },
   {
    "duration": 2,
    "start_time": "2023-11-03T08:14:09.888Z"
   },
   {
    "duration": 199,
    "start_time": "2023-11-03T08:14:13.273Z"
   },
   {
    "duration": 10,
    "start_time": "2023-11-03T08:14:15.879Z"
   },
   {
    "duration": 12,
    "start_time": "2023-11-03T08:14:18.380Z"
   },
   {
    "duration": 1143,
    "start_time": "2023-11-03T08:24:53.429Z"
   },
   {
    "duration": 3,
    "start_time": "2023-11-03T08:24:54.581Z"
   },
   {
    "duration": 99,
    "start_time": "2023-11-03T08:24:54.587Z"
   },
   {
    "duration": 11,
    "start_time": "2023-11-03T08:24:54.688Z"
   },
   {
    "duration": 26,
    "start_time": "2023-11-03T08:24:54.700Z"
   },
   {
    "duration": 47,
    "start_time": "2023-11-03T08:24:54.728Z"
   },
   {
    "duration": 5,
    "start_time": "2023-11-03T08:24:54.777Z"
   },
   {
    "duration": 21,
    "start_time": "2023-11-03T08:24:54.784Z"
   },
   {
    "duration": 10,
    "start_time": "2023-11-03T08:24:54.807Z"
   },
   {
    "duration": 48,
    "start_time": "2023-11-03T08:24:54.818Z"
   },
   {
    "duration": 27,
    "start_time": "2023-11-03T08:24:54.868Z"
   },
   {
    "duration": 16,
    "start_time": "2023-11-03T08:24:54.897Z"
   },
   {
    "duration": 15,
    "start_time": "2023-11-03T08:24:54.915Z"
   },
   {
    "duration": 45,
    "start_time": "2023-11-03T08:24:54.932Z"
   },
   {
    "duration": 5,
    "start_time": "2023-11-03T08:24:54.978Z"
   },
   {
    "duration": 19,
    "start_time": "2023-11-03T08:24:54.984Z"
   },
   {
    "duration": 30,
    "start_time": "2023-11-03T08:24:55.005Z"
   },
   {
    "duration": 49,
    "start_time": "2023-11-03T08:24:55.036Z"
   },
   {
    "duration": 11,
    "start_time": "2023-11-03T08:24:55.086Z"
   },
   {
    "duration": 31,
    "start_time": "2023-11-03T08:24:55.098Z"
   },
   {
    "duration": 341,
    "start_time": "2023-11-03T08:24:55.131Z"
   },
   {
    "duration": 361,
    "start_time": "2023-11-03T08:24:55.473Z"
   },
   {
    "duration": 261,
    "start_time": "2023-11-03T08:24:55.835Z"
   },
   {
    "duration": 335,
    "start_time": "2023-11-03T08:24:56.098Z"
   },
   {
    "duration": 259,
    "start_time": "2023-11-03T08:24:56.434Z"
   },
   {
    "duration": 359,
    "start_time": "2023-11-03T08:24:56.694Z"
   },
   {
    "duration": 16,
    "start_time": "2023-11-03T08:24:57.070Z"
   },
   {
    "duration": 207,
    "start_time": "2023-11-03T08:24:57.087Z"
   },
   {
    "duration": 4,
    "start_time": "2023-11-03T08:24:57.295Z"
   },
   {
    "duration": 195,
    "start_time": "2023-11-03T08:24:57.300Z"
   },
   {
    "duration": 5,
    "start_time": "2023-11-03T08:24:57.497Z"
   },
   {
    "duration": 289,
    "start_time": "2023-11-03T08:24:57.503Z"
   },
   {
    "duration": 20,
    "start_time": "2023-11-03T08:24:57.793Z"
   },
   {
    "duration": 193,
    "start_time": "2023-11-03T08:24:57.815Z"
   },
   {
    "duration": 10,
    "start_time": "2023-11-03T08:24:58.009Z"
   },
   {
    "duration": 6,
    "start_time": "2023-11-03T08:24:58.020Z"
   },
   {
    "duration": 61,
    "start_time": "2023-11-03T08:24:58.027Z"
   },
   {
    "duration": 39,
    "start_time": "2023-11-03T08:24:58.089Z"
   },
   {
    "duration": 1094,
    "start_time": "2023-11-03T08:30:37.809Z"
   },
   {
    "duration": 2,
    "start_time": "2023-11-03T08:30:38.905Z"
   },
   {
    "duration": 106,
    "start_time": "2023-11-03T08:30:38.908Z"
   },
   {
    "duration": 10,
    "start_time": "2023-11-03T08:30:39.016Z"
   },
   {
    "duration": 28,
    "start_time": "2023-11-03T08:30:39.027Z"
   },
   {
    "duration": 7,
    "start_time": "2023-11-03T08:30:39.071Z"
   },
   {
    "duration": 9,
    "start_time": "2023-11-03T08:30:39.080Z"
   },
   {
    "duration": 10,
    "start_time": "2023-11-03T08:30:39.090Z"
   },
   {
    "duration": 6,
    "start_time": "2023-11-03T08:30:39.102Z"
   },
   {
    "duration": 28,
    "start_time": "2023-11-03T08:30:39.110Z"
   },
   {
    "duration": 15,
    "start_time": "2023-11-03T08:30:39.155Z"
   },
   {
    "duration": 15,
    "start_time": "2023-11-03T08:30:39.172Z"
   },
   {
    "duration": 8,
    "start_time": "2023-11-03T08:30:39.188Z"
   },
   {
    "duration": 6,
    "start_time": "2023-11-03T08:30:39.197Z"
   },
   {
    "duration": 8,
    "start_time": "2023-11-03T08:30:39.205Z"
   },
   {
    "duration": 8,
    "start_time": "2023-11-03T08:30:39.215Z"
   },
   {
    "duration": 24,
    "start_time": "2023-11-03T08:30:39.224Z"
   },
   {
    "duration": 24,
    "start_time": "2023-11-03T08:30:39.262Z"
   },
   {
    "duration": 11,
    "start_time": "2023-11-03T08:30:39.287Z"
   },
   {
    "duration": 11,
    "start_time": "2023-11-03T08:30:39.299Z"
   },
   {
    "duration": 292,
    "start_time": "2023-11-03T08:30:39.311Z"
   },
   {
    "duration": 367,
    "start_time": "2023-11-03T08:30:39.605Z"
   },
   {
    "duration": 254,
    "start_time": "2023-11-03T08:30:39.974Z"
   },
   {
    "duration": 373,
    "start_time": "2023-11-03T08:30:40.230Z"
   },
   {
    "duration": 279,
    "start_time": "2023-11-03T08:30:40.604Z"
   },
   {
    "duration": 397,
    "start_time": "2023-11-03T08:30:40.884Z"
   },
   {
    "duration": 9,
    "start_time": "2023-11-03T08:30:41.282Z"
   },
   {
    "duration": 183,
    "start_time": "2023-11-03T08:30:41.295Z"
   },
   {
    "duration": 11,
    "start_time": "2023-11-03T08:30:41.480Z"
   },
   {
    "duration": 203,
    "start_time": "2023-11-03T08:30:41.493Z"
   },
   {
    "duration": 4,
    "start_time": "2023-11-03T08:30:41.697Z"
   },
   {
    "duration": 287,
    "start_time": "2023-11-03T08:30:41.703Z"
   },
   {
    "duration": 20,
    "start_time": "2023-11-03T08:30:41.992Z"
   },
   {
    "duration": 188,
    "start_time": "2023-11-03T08:30:42.014Z"
   },
   {
    "duration": 9,
    "start_time": "2023-11-03T08:30:42.203Z"
   },
   {
    "duration": 10,
    "start_time": "2023-11-03T08:30:42.213Z"
   },
   {
    "duration": 66,
    "start_time": "2023-11-03T08:30:42.225Z"
   },
   {
    "duration": 16,
    "start_time": "2023-11-03T08:30:42.293Z"
   }
  ],
  "kernelspec": {
   "display_name": "Python 3 (ipykernel)",
   "language": "python",
   "name": "python3"
  },
  "language_info": {
   "codemirror_mode": {
    "name": "ipython",
    "version": 3
   },
   "file_extension": ".py",
   "mimetype": "text/x-python",
   "name": "python",
   "nbconvert_exporter": "python",
   "pygments_lexer": "ipython3",
   "version": "3.10.9"
  },
  "toc": {
   "base_numbering": 1,
   "nav_menu": {},
   "number_sections": true,
   "sideBar": true,
   "skip_h1_title": true,
   "title_cell": "Table of Contents",
   "title_sidebar": "Contents",
   "toc_cell": false,
   "toc_position": {},
   "toc_section_display": true,
   "toc_window_display": false
  }
 },
 "nbformat": 4,
 "nbformat_minor": 2
}
